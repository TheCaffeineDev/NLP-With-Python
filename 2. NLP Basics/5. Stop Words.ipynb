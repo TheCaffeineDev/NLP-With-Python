{
 "cells": [
  {
   "cell_type": "markdown",
   "metadata": {},
   "source": [
    "# Stop Words\n",
    "Words like \"a\" and \"the\" appear so frequently that they don't require tagging as thoroughly as nouns, verbs and modifiers. We call these *stop words*, and they can be filtered from the text to be processed. spaCy holds a built-in list of some 305 English stop words."
   ]
  },
  {
   "cell_type": "code",
   "execution_count": 1,
   "metadata": {},
   "outputs": [],
   "source": [
    "# Perform standard imports:\n",
    "import spacy\n",
    "nlp = spacy.load('en_core_web_sm')"
   ]
  },
  {
   "cell_type": "code",
   "execution_count": 2,
   "metadata": {},
   "outputs": [
    {
     "name": "stdout",
     "output_type": "stream",
     "text": [
      "{'mostly', 'but', 'hereby', 'become', 'elsewhere', 'with', 'through', 'name', 'never', 're', 'perhaps', 'former', 'regarding', 'much', 'which', 'what', 'below', 'sixty', 'on', 'side', 'him', 'everywhere', 'either', 'how', 'indeed', 'eleven', 'off', 'anyhow', 'always', 'amount', 'sometime', 'various', 'back', 'first', 'their', 'and', 'moreover', 'she', 'cannot', 'too', 'they', 'take', 'during', 'then', 'now', 'all', 'against', 'full', 'top', 'must', 'wherever', 'thereupon', 'do', 'ever', 'any', 'becomes', 'have', 'into', 'namely', 'seems', 'her', 'out', 'over', 'neither', 'per', 'when', 'than', 'by', 'them', 'none', 'yourselves', 'somehow', 'us', 'though', 'hers', 'became', 'therefore', 'since', 'etc', 'formerly', 'others', 'as', 'a', 'five', 'latter', 'sometimes', 'bottom', 'hence', 'beyond', 'without', 'only', 'hereupon', 'could', 'such', 'throughout', 'say', 'why', 'your', 'can', 'around', 'his', 'six', 'part', 'four', 'therein', 'down', 'does', 'because', 'due', 'nine', 'some', 'ca', 'may', 'move', 'nor', 'enough', 'besides', 'from', 'keep', 'if', 'often', 'up', 'it', 'becoming', 'empty', 'among', 'that', 'had', 'hundred', 'also', 'really', 'more', 'whole', 'did', 'somewhere', 'was', 'via', 'ours', 'thus', 'beside', 'himself', 'were', 'everyone', 'nothing', 'thence', 'thru', 'thereafter', 'anyone', 'an', 'i', 'he', 'its', 'amongst', 'across', 'fifty', 'eight', 'onto', 'ourselves', 'anywhere', 'using', 'we', 'get', 'been', 'seem', 'very', 'whereupon', 'whenever', 'few', 'under', 'whom', 'doing', 'no', 'three', 'several', 'are', 'seemed', 'even', 'my', 'would', 'should', 'further', 'many', 'although', 'again', 'toward', 'another', 'until', 'rather', 'already', 'after', 'noone', 'something', 'almost', 'latterly', 'done', 'please', 'yet', 'show', 'whereby', 'herein', 'well', 'to', 'in', 'here', 'fifteen', 'other', 'those', 'of', 'myself', 'upon', 'one', 'wherein', 'someone', 'about', 'however', 'while', 'thereby', 'might', 'seeming', 'has', 'yourself', 'put', 'each', 'nowhere', 'still', 'forty', 'along', 'make', 'front', 'together', 'else', 'every', 'behind', 'before', 'herself', 'anyway', 'both', 'just', 'be', 'our', 'call', 'otherwise', 'whoever', 'next', 'own', 'give', 'used', 'am', 'unless', 'everything', 'nobody', 'mine', 'third', 'will', 'yours', 'whereafter', 'between', 'made', 'so', 'twenty', 'towards', 'whether', 'inc', 'twelve', 'above', 'nevertheless', 'whereas', 'who', 'go', 'itself', 'the', 'for', 'once', 'is', 'whose', 'see', 'afterwards', 'alone', 'not', 'or', 'meanwhile', 'at', 'less', 'within', 'whence', 'ten', 'beforehand', 'where', 'two', 'this', 'except', 'whither', 'last', 'me', 'anything', 'themselves', 'hereafter', 'quite', 'same', 'these', 'being', 'you', 'least', 'most', 'there', 'whatever', 'serious'}\n"
     ]
    }
   ],
   "source": [
    "# Print the set of spaCy's default stop words (remember that sets are unordered):\n",
    "print(nlp.Defaults.stop_words)"
   ]
  },
  {
   "cell_type": "code",
   "execution_count": 3,
   "metadata": {},
   "outputs": [
    {
     "data": {
      "text/plain": [
       "307"
      ]
     },
     "execution_count": 3,
     "metadata": {},
     "output_type": "execute_result"
    }
   ],
   "source": [
    "len(nlp.Defaults.stop_words)"
   ]
  },
  {
   "cell_type": "markdown",
   "metadata": {},
   "source": [
    "## To see if a word is a stop word"
   ]
  },
  {
   "cell_type": "code",
   "execution_count": 4,
   "metadata": {},
   "outputs": [
    {
     "data": {
      "text/plain": [
       "True"
      ]
     },
     "execution_count": 4,
     "metadata": {},
     "output_type": "execute_result"
    }
   ],
   "source": [
    "nlp.vocab['myself'].is_stop"
   ]
  },
  {
   "cell_type": "code",
   "execution_count": 5,
   "metadata": {},
   "outputs": [
    {
     "data": {
      "text/plain": [
       "False"
      ]
     },
     "execution_count": 5,
     "metadata": {},
     "output_type": "execute_result"
    }
   ],
   "source": [
    "nlp.vocab['mystery'].is_stop"
   ]
  },
  {
   "cell_type": "markdown",
   "metadata": {},
   "source": [
    "## To add a stop word\n",
    "There may be times when you wish to add a stop word to the default set. Perhaps you decide that `'btw'` (common shorthand for \"by the way\") should be considered a stop word."
   ]
  },
  {
   "cell_type": "code",
   "execution_count": 6,
   "metadata": {},
   "outputs": [],
   "source": [
    "# Add the word to the set of stop words. Use lowercase!\n",
    "nlp.Defaults.stop_words.add('btw')\n",
    "\n",
    "# Set the stop_word tag on the lexeme\n",
    "nlp.vocab['btw'].is_stop = True"
   ]
  },
  {
   "cell_type": "code",
   "execution_count": 7,
   "metadata": {},
   "outputs": [
    {
     "data": {
      "text/plain": [
       "308"
      ]
     },
     "execution_count": 7,
     "metadata": {},
     "output_type": "execute_result"
    }
   ],
   "source": [
    "len(nlp.Defaults.stop_words)"
   ]
  },
  {
   "cell_type": "code",
   "execution_count": 8,
   "metadata": {},
   "outputs": [
    {
     "data": {
      "text/plain": [
       "True"
      ]
     },
     "execution_count": 8,
     "metadata": {},
     "output_type": "execute_result"
    }
   ],
   "source": [
    "nlp.vocab['btw'].is_stop"
   ]
  },
  {
   "cell_type": "markdown",
   "metadata": {},
   "source": [
    "When adding stop words, always use lowercase. Lexemes are converted to lowercase before being added to vocab."
   ]
  },
  {
   "cell_type": "markdown",
   "metadata": {},
   "source": [
    "## To remove a stop word\n",
    "Alternatively, you may decide that `'beyond'` should not be considered a stop word."
   ]
  },
  {
   "cell_type": "code",
   "execution_count": 9,
   "metadata": {},
   "outputs": [],
   "source": [
    "# Remove the word from the set of stop words\n",
    "nlp.Defaults.stop_words.remove('beyond')\n",
    "\n",
    "# Remove the stop_word tag from the lexeme\n",
    "nlp.vocab['beyond'].is_stop = False"
   ]
  },
  {
   "cell_type": "code",
   "execution_count": 10,
   "metadata": {},
   "outputs": [
    {
     "data": {
      "text/plain": [
       "307"
      ]
     },
     "execution_count": 10,
     "metadata": {},
     "output_type": "execute_result"
    }
   ],
   "source": [
    "len(nlp.Defaults.stop_words)"
   ]
  },
  {
   "cell_type": "code",
   "execution_count": 11,
   "metadata": {},
   "outputs": [
    {
     "data": {
      "text/plain": [
       "False"
      ]
     },
     "execution_count": 11,
     "metadata": {},
     "output_type": "execute_result"
    }
   ],
   "source": [
    "nlp.vocab['beyond'].is_stop"
   ]
  },
  {
   "cell_type": "code",
   "execution_count": null,
   "metadata": {},
   "outputs": [],
   "source": []
  }
 ],
 "metadata": {
  "kernelspec": {
   "display_name": "Python 3",
   "language": "python",
   "name": "python3"
  },
  "language_info": {
   "codemirror_mode": {
    "name": "ipython",
    "version": 3
   },
   "file_extension": ".py",
   "mimetype": "text/x-python",
   "name": "python",
   "nbconvert_exporter": "python",
   "pygments_lexer": "ipython3",
   "version": "3.6.4"
  }
 },
 "nbformat": 4,
 "nbformat_minor": 2
}
