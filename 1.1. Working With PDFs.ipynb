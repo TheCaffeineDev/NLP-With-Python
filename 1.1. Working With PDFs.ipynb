{
 "cells": [
  {
   "cell_type": "markdown",
   "metadata": {},
   "source": [
    "# Working With PDFs"
   ]
  },
  {
   "cell_type": "markdown",
   "metadata": {},
   "source": [
    "1. - Often we may need to read in text data from a PDF file .\n",
    "\n",
    "   - We can use the PyPDF2 library to read in text data from a PDF file.\n",
    "\n",
    "   - **Note: Not all the PDFs have the text that can be extracted**\n",
    "\n",
    "   - Some PDFs are created through scanning, instead of being exported from a text editor like word.\n",
    "\n",
    "     - These scanned PDFs are like scanned image files, making it much harder to extract the text.\n",
    "     - Often this requires a specialized software.\n",
    "\n",
    "   - The PyPDF2 library is made to extract text from PDF files directly created from a word processor, but not all word processor created PDFs with extractable text.\n",
    "\n",
    "   - If you haven't installed PyPDF2, run the command in your terminal or in your CMD \n",
    "\n",
    "     ```\n",
    "       pip install PyPDF2\n",
    "     ```\n",
    "\n",
    "   - If you haven't installed PyPDF2, run the command in your terminal or in your CMD \n",
    "\n"
   ]
  },
  {
   "cell_type": "markdown",
   "metadata": {},
   "source": [
    "### Let's Start "
   ]
  },
  {
   "cell_type": "code",
   "execution_count": 1,
   "metadata": {},
   "outputs": [],
   "source": [
    "# import library \n",
    "\n",
    "import PyPDF2"
   ]
  },
  {
   "cell_type": "code",
   "execution_count": 2,
   "metadata": {},
   "outputs": [],
   "source": [
    "# Reading as file\n",
    "\n",
    "my_file = open('data/dummy.pdf',mode='rb')"
   ]
  },
  {
   "cell_type": "code",
   "execution_count": 3,
   "metadata": {},
   "outputs": [],
   "source": [
    "# reading as pdf\n",
    "\n",
    "pdf_reader = PyPDF2.PdfFileReader(my_file)"
   ]
  },
  {
   "cell_type": "code",
   "execution_count": 4,
   "metadata": {},
   "outputs": [
    {
     "data": {
      "text/plain": [
       "5"
      ]
     },
     "execution_count": 4,
     "metadata": {},
     "output_type": "execute_result"
    }
   ],
   "source": [
    "# checking pages\n",
    "pdf_reader.numPages"
   ]
  },
  {
   "cell_type": "code",
   "execution_count": 5,
   "metadata": {},
   "outputs": [],
   "source": [
    "# page \n",
    "page_one = pdf_reader.getPage(0)"
   ]
  },
  {
   "cell_type": "code",
   "execution_count": 7,
   "metadata": {},
   "outputs": [],
   "source": [
    "myText_first= page_one.extractText()"
   ]
  },
  {
   "cell_type": "code",
   "execution_count": 9,
   "metadata": {},
   "outputs": [],
   "source": [
    "my_file.close()"
   ]
  },
  {
   "cell_type": "markdown",
   "metadata": {},
   "source": [
    "## Adding to PDFs\n",
    "\n",
    "We can not write to PDFs using Python because of the differences between the single string type of Python, and the variety of fonts, placements, and other parameters that a PDF could have.\n",
    "\n",
    "What we *can* do is copy pages and append pages to the end."
   ]
  },
  {
   "cell_type": "code",
   "execution_count": 10,
   "metadata": {},
   "outputs": [],
   "source": [
    "f = open('data/dummy.pdf',mode='rb')\n",
    "pdf_reader = PyPDF2.PdfFileReader(f)"
   ]
  },
  {
   "cell_type": "code",
   "execution_count": 11,
   "metadata": {},
   "outputs": [],
   "source": [
    "first_page = pdf_reader.getPage(0)"
   ]
  },
  {
   "cell_type": "code",
   "execution_count": 12,
   "metadata": {},
   "outputs": [],
   "source": [
    "pdf_writer = PyPDF2.PdfFileWriter()"
   ]
  },
  {
   "cell_type": "code",
   "execution_count": 13,
   "metadata": {},
   "outputs": [],
   "source": [
    "pdf_writer.addPage(first_page)"
   ]
  },
  {
   "cell_type": "code",
   "execution_count": 14,
   "metadata": {},
   "outputs": [],
   "source": [
    "pdf_output = open(\"data/New_Doc.pdf\",\"wb\")"
   ]
  },
  {
   "cell_type": "code",
   "execution_count": 15,
   "metadata": {},
   "outputs": [],
   "source": [
    "pdf_writer.write(pdf_output)"
   ]
  },
  {
   "cell_type": "code",
   "execution_count": 16,
   "metadata": {},
   "outputs": [],
   "source": [
    "pdf_output.close()\n",
    "f.close()"
   ]
  },
  {
   "cell_type": "markdown",
   "metadata": {},
   "source": [
    "Now we have copied a page and added it to another new document!"
   ]
  },
  {
   "cell_type": "markdown",
   "metadata": {},
   "source": [
    "## Simple Example\n",
    "\n",
    "Let's try to grab all the text from this PDF file:"
   ]
  },
  {
   "cell_type": "code",
   "execution_count": 17,
   "metadata": {},
   "outputs": [],
   "source": [
    "f = open('data/dummy.pdf','rb')\n",
    "\n",
    "# List of every page's text.\n",
    "# The index will correspond to the page number.\n",
    "pdf_text = [0]  # zero is a placehoder to make page 1 = index 1\n",
    "\n",
    "pdf_reader = PyPDF2.PdfFileReader(f)\n",
    "\n",
    "for p in range(pdf_reader.numPages):\n",
    "    \n",
    "    page = pdf_reader.getPage(p)\n",
    "    \n",
    "    pdf_text.append(page.extractText())\n",
    "\n",
    "f.close()"
   ]
  },
  {
   "cell_type": "code",
   "execution_count": 18,
   "metadata": {},
   "outputs": [
    {
     "data": {
      "text/plain": [
       "[0,\n",
       " ' \\n \\nLorem Ipsum \\nis simply dummy text of the printing and typesetting industry. Lorem Ipsum has been \\nthe industry\\'s standard dummy text ever since the 1500s, when an unknown printer took a galley of \\ntype and scrambled it to make a type specimen book. It has survived not only five centuries, but also \\nthe leap into electronic typesetting, remaining essentially unchanged. It was popularised in the \\n1960s with the release of Letraset sheets containing Lore\\nm Ipsum passages, and more recently with \\ndesktop publishing software like Aldus PageMaker including versions of Lorem Ipsum \\n \\nIt is a long established fact that a reader will be distracted by the readable content of a page when \\nlooking at its layout. The po\\nint of using Lorem Ipsum is that it has a more\\n-\\nor\\n-\\nless normal distribution \\nof letters, as opposed to using \\'Content here, content here\\', making it look like readable English. \\nMany desktop publishing packages and web page editors now use Lorem Ipsum as thei\\nr default \\nmodel text, and a search for \\'lorem ipsum\\' will uncover many web sites still in their infancy. Various \\nversions have evolved over the years, sometimes by accident, sometimes on purpose (injected \\nhumour and the like). \\n \\nContrary to popular belief, \\nLorem Ipsum is not simply random text. It has roots in a piece of classical \\nLatin literature from 45 BC, making it over 2000 years old. Richard McClintock, a Latin professor at \\nHampden\\n-\\nSydney College in Virginia, looked up one of the more obscure Latin wor\\nds, consectetur, \\nfrom a Lorem Ipsum passage, and going through the cites of the word in classical literature, \\ndiscovered the undoubtable source. Lorem Ipsum comes from sections 1.10.32 and 1.10.33 of \"de \\nFinibus Bonorum et Malorum\" (The Extremes of Good an\\nd Evil) by Cicero, written in 45 BC. This \\nbook is a treatise on the theory of ethics, very popular during the Renaissance. The first line of \\nLorem Ipsum, \"Lorem ipsum dolor sit amet..\", comes from a line in section 1.10.32. \\n \\nThe standard chunk of Lorem Ips\\num used since the 1500s is reproduced below for those interested. Sections \\n1.10.32 and 1.10.33 from \"de Finibus Bonorum et Malorum\" by Cicero are also reproduced in their exact \\noriginal form, accompanied by English versions from the 1914 translation by H. \\nRackham.\\n \\n \\n \\nLorem Ipsum \\nis simply dummy text of the printing and typesetting industry. Lorem Ipsum has been \\nthe industry\\'s standard dummy text ever since the 1500s, when an unknown printer took a galley of \\ntype and scrambled it to make a type sp\\necimen book. It has survived not only five centuries, but also \\nthe leap into electronic typesetting, remaining essentially unchanged. It was popularised in the \\n1960s with the release of Letraset sheets containing Lorem Ipsum passages, and more recently wit\\nh \\ndesktop publishing software like Aldus PageMaker including versions of Lorem Ipsum \\n \\nIt is a long established fact that a reader will be distracted by the readable content of a page when \\nlooking at its layout. The point of using Lorem Ipsum is that it has\\n \\na more\\n-\\nor\\n-\\nless normal distribution \\nof letters, as opposed to using \\'Content here, content here\\', making it look like readable English. \\nMany desktop publishing packages and web page editors now use Lorem Ipsum as their default \\nmodel text, and a search for \\n\\'lorem ipsum\\' will uncover many web sites still in their infancy. Various \\nversions have evolved over the years, sometimes by accident, sometimes on purpose (injected \\nhumour and the like). \\n \\nContrary to popular belief, Lorem Ipsum is not simply random text. \\nIt has roots in a piece of classical \\nLatin literature from 45 BC, making it over 2000 years old. Richard McClintock, a Latin professor at \\nHampden\\n-\\nSydney College in Virginia, looked up one of the more obscure Latin words, consectetur, \\nfrom a Lorem Ipsum pas\\nsage, and going through the cites of the word in classical literature, \\ndiscovered the undoubtable source. Lorem Ipsum comes from sections 1.10.32 and 1.10.33 of \"de \\nFinibus Bonorum et Malorum\" (The Extremes of Good and Evil) by Cicero, written in 45 BC. Th\\nis \\nbook is a treatise on the theory of ethics, very popular during the Renaissance. The first line of \\nLorem Ipsum, \"Lorem ipsum dolor sit amet..\", comes from a line in section 1.10.32. \\n \\nThe standard chunk of Lorem Ipsum used since the 1500s is reproduced b\\nelow for those interested. \\nSections 1.10.32 and 1.10.33 from \"de Finibus Bonorum et Malorum\" by Cicero are also reproduced \\nin their exact original form, accompanied by English versions from the 1914 translation by H. \\nRackham.\\n \\n \\n',\n",
       " ' \\nLorem Ipsum \\nis s\\nimply dummy text of the printing and typesetting industry. Lorem Ipsum has been \\nthe industry\\'s standard dummy text ever since the 1500s, when an unknown printer took a galley of \\ntype and scrambled it to make a type specimen book. It has survived not only f\\nive centuries, but also \\nthe leap into electronic typesetting, remaining essentially unchanged. It was popularised in the \\n1960s with the release of Letraset sheets containing Lorem Ipsum passages, and more recently with \\ndesktop publishing software like Aldu\\ns PageMaker including versions of Lorem Ipsum \\n \\nIt is a long established fact that a reader will be distracted by the readable content of a page when \\nlooking at its layout. The point of using Lorem Ipsum is that it has a more\\n-\\nor\\n-\\nless normal distribution \\nof \\nletters, as opposed to using \\'Content here, content here\\', making it look like readable English. \\nMany desktop publishing packages and web page editors now use Lorem Ipsum as their default \\nmodel text, and a search for \\'lorem ipsum\\' will uncover many web sit\\nes still in their infancy. Various \\nversions have evolved over the years, sometimes by accident, sometimes on purpose (injected \\nhumour and the like). \\n \\nContrary to popular belief, Lorem Ipsum is not simply random text. It has roots in a piece of classical \\nLa\\ntin literature from 45 BC, making it over 2000 years old. Richard McClintock, a Latin professor at \\nHampden\\n-\\nSydney College in Virginia, looked up one of the more obscure Latin words, consectetur, \\nfrom a Lorem Ipsum passage, and going through the cites of th\\ne word in classical literature, \\ndiscovered the undoubtable source. Lorem Ipsum comes from sections 1.10.32 and 1.10.33 of \"de \\nFinibus Bonorum et Malorum\" (The Extremes of Good and Evil) by Cicero, written in 45 BC. This \\nbook is a treatise on the theory of \\nethics, very popular during the Renaissance. The first line of \\nLorem Ipsum, \"Lorem ipsum dolor sit amet..\", comes from a line in section 1.10.32. \\n \\nThe standard chunk of Lorem Ipsum used since the 1500s is reproduced below for those interested. \\nSections 1.1\\n0.32 and 1.10.33 from \"de Finibus Bonorum et Malorum\" by Cicero are also reproduced \\nin their exact original form, accompanied by English versions from the 1914 translation by H. \\nRackham.\\n \\n \\n \\nLorem Ipsum \\nis simply dummy text of the printing and ty\\npesetting industry. Lorem Ipsum has been \\nthe industry\\'s standard dummy text ever since the 1500s, when an unknown printer took a galley of \\ntype and scrambled it to make a type specimen book. It has survived not only five centuries, but also \\nthe leap into e\\nlectronic typesetting, remaining essentially unchanged. It was popularised in the \\n1960s with the release of Letraset sheets containing Lorem Ipsum passages, and more recently with \\ndesktop publishing software like Aldus PageMaker including versions of Lorem\\n \\nIpsum \\n \\nIt is a long established fact that a reader will be distracted by the readable content of a page when \\nlooking at its layout. The point of using Lorem Ipsum is that it has a more\\n-\\nor\\n-\\nless normal distribution \\nof letters, as opposed to using \\'Content h\\nere, content here\\', making it look like readable English. \\nMany desktop publishing packages and web page editors now use Lorem Ipsum as their default \\nmodel text, and a search for \\'lorem ipsum\\' will uncover many web sites still in their infancy. Various \\nvers\\nions have evolved over the years, sometimes by accident, sometimes on purpose (injected \\nhumour and the like). \\n \\nContrary to popular belief, Lorem Ipsum is not simply random text. It has roots in a piece of classical \\nLatin literature from 45 BC, making it ov\\ner 2000 years old. Richard McClintock, a Latin professor at \\nHampden\\n-\\nSydney College in Virginia, looked up one of the more obscure Latin words, consectetur, \\nfrom a Lorem Ipsum passage, and going through the cites of the word in classical literature, \\ndiscove\\nred the undoubtable source. Lorem Ipsum comes from sections 1.10.32 and 1.10.33 of \"de \\nFinibus Bonorum et Malorum\" (The Extremes of Good and Evil) by Cicero, written in 45 BC. This \\nbook is a treatise on the theory of ethics, very popular during the Renaiss\\nance. The first line of \\nLorem Ipsum, \"Lorem ipsum dolor sit amet..\", comes from a line in section 1.10.32. \\n \\nThe standard chunk of Lorem Ipsum used since the 1500s is reproduced below for those interested. \\nSections 1.10.32 and 1.10.33 from \"de Finibus Bonor\\num et Malorum\" by Cicero are also reproduced \\nin their exact original form, accompanied by English versions from the 1914 translation by H. \\nRackham.\\n \\n \\n \\nLorem Ipsum \\nis simply dummy text of the printing and typesetting industry. Lorem Ipsum has bee\\nn \\nthe industry\\'s standard dummy text ever since the 1500s, when an unknown printer took a galley of \\ntype and scrambled it to make a type specimen book. It has survived not only five centuries, but also \\n',\n",
       " 'the leap into electronic typesetting, remaining essent\\nially unchanged. It was popularised in the \\n1960s with the release of Letraset sheets containing Lorem Ipsum passages, and more recently with \\ndesktop publishing software like Aldus PageMaker including versions of Lorem Ipsum \\n \\nIt is a long established fact t\\nhat a reader will be distracted by the readable content of a page when \\nlooking at its layout. The point of using Lorem Ipsum is that it has a more\\n-\\nor\\n-\\nless normal distribution \\nof letters, as opposed to using \\'Content here, content here\\', making it look like\\n \\nreadable English. \\nMany desktop publishing packages and web page editors now use Lorem Ipsum as their default \\nmodel text, and a search for \\'lorem ipsum\\' will uncover many web sites still in their infancy. Various \\nversions have evolved over the years, somet\\nimes by accident, sometimes on purpose (injected \\nhumour and the like). \\n \\nContrary to popular belief, Lorem Ipsum is not simply random text. It has roots in a piece of classical \\nLatin literature from 45 BC, making it over 2000 years old. Richard McClintock, \\na Latin professor at \\nHampden\\n-\\nSydney College in Virginia, looked up one of the more obscure Latin words, consectetur, \\nfrom a Lorem Ipsum passage, and going through the cites of the word in classical literature, \\ndiscovered the undoubtable source. Lorem Ipsum\\n \\ncomes from sections 1.10.32 and 1.10.33 of \"de \\nFinibus Bonorum et Malorum\" (The Extremes of Good and Evil) by Cicero, written in 45 BC. This \\nbook is a treatise on the theory of ethics, very popular during the Renaissance. The first line of \\nLorem Ipsum, \"L\\norem ipsum dolor sit amet..\", comes from a line in section 1.10.32. \\n \\nThe standard chunk of Lorem Ipsum used since the 1500s is reproduced below for those interested. \\nSections 1.10.32 and 1.10.33 from \"de Finibus Bonorum et Malorum\" by Cicero are also repro\\nduced \\nin their exact original form, accompanied by English versions from the 1914 translation by H. \\nRackham.\\n \\n \\n \\nLorem Ipsum \\nis simply dummy text of the printing and typesetting industry. Lorem Ipsum has been \\nthe industry\\'s standard dummy text ev\\ner since the 1500s, when an unknown printer took a galley of \\ntype and scrambled it to make a type specimen book. It has survived not only five centuries, but also \\nthe leap into electronic typesetting, remaining essentially unchanged. It was popularised in \\nthe \\n1960s with the release of Letraset sheets containing Lorem Ipsum passages, and more recently with \\ndesktop publishing software like Aldus PageMaker including versions of Lorem Ipsum \\n \\nIt is a long established fact that a reader will be distracted by the \\nreadable content of a page when \\nlooking at its layout. The point of using Lorem Ipsum is that it has a more\\n-\\nor\\n-\\nless normal distribution \\nof letters, as opposed to using \\'Content here, content here\\', making it look like readable English. \\nMany desktop publish\\ning packages and web page editors now use Lorem Ipsum as their default \\nmodel text, and a search for \\'lorem ipsum\\' will uncover many web sites still in their infancy. Various \\nversions have evolved over the years, sometimes by accident, sometimes on purpose \\n(injected \\nhumour and the like). \\n \\nContrary to popular belief, Lorem Ipsum is not simply random text. It has roots in a piece of classical \\nLatin literature from 45 BC, making it over 2000 years old. Richard McClintock, a Latin professor at \\nHampden\\n-\\nSydney Col\\nlege in Virginia, looked up one of the more obscure Latin words, consectetur, \\nfrom a Lorem Ipsum passage, and going through the cites of the word in classical literature, \\ndiscovered the undoubtable source. Lorem Ipsum comes from sections 1.10.32 and 1.10.3\\n3 of \"de \\nFinibus Bonorum et Malorum\" (The Extremes of Good and Evil) by Cicero, written in 45 BC. This \\nbook is a treatise on the theory of ethics, very popular during the Renaissance. The first line of \\nLorem Ipsum, \"Lorem ipsum dolor sit amet..\", comes fro\\nm a line in section 1.10.32. \\n \\nThe standard chunk of Lorem Ipsum used since the 1500s is reproduced below for those interested. \\nSections 1.10.32 and 1.10.33 from \"de Finibus Bonorum et Malorum\" by Cicero are also reproduced \\nin their exact original form, acc\\nompanied by English versions from the 1914 translation by H. \\nRackham.\\n \\n \\n \\nLorem Ipsum \\nis simply dummy text of the printing and typesetting industry. Lorem Ipsum has been \\nthe industry\\'s standard dummy text ever since the 1500s, when an unknown pri\\nnter took a galley of \\ntype and scrambled it to make a type specimen book. It has survived not only five centuries, but also \\nthe leap into electronic typesetting, remaining essentially unchanged. It was popularised in the \\n1960s with the release of Letraset \\nsheets containing Lorem Ipsum passages, and more recently with \\ndesktop publishing software like Aldus PageMaker including versions of Lorem Ipsum \\n \\n',\n",
       " 'It is a long established fact that a reader will be distracted by the readable content of a page when \\nlooking\\n \\nat its layout. The point of using Lorem Ipsum is that it has a more\\n-\\nor\\n-\\nless normal distribution \\nof letters, as opposed to using \\'Content here, content here\\', making it look like readable English. \\nMany desktop publishing packages and web page editors now u\\nse Lorem Ipsum as their default \\nmodel text, and a search for \\'lorem ipsum\\' will uncover many web sites still in their infancy. Various \\nversions have evolved over the years, sometimes by accident, sometimes on purpose (injected \\nhumour and the like). \\n \\nContra\\nry to popular belief, Lorem Ipsum is not simply random text. It has roots in a piece of classical \\nLatin literature from 45 BC, making it over 2000 years old. Richard McClintock, a Latin professor at \\nHampden\\n-\\nSydney College in Virginia, looked up one of the \\nmore obscure Latin words, consectetur, \\nfrom a Lorem Ipsum passage, and going through the cites of the word in classical literature, \\ndiscovered the undoubtable source. Lorem Ipsum comes from sections 1.10.32 and 1.10.33 of \"de \\nFinibus Bonorum et Malorum\" (T\\nhe Extremes of Good and Evil) by Cicero, written in 45 BC. This \\nbook is a treatise on the theory of ethics, very popular during the Renaissance. The first line of \\nLorem Ipsum, \"Lorem ipsum dolor sit amet..\", comes from a line in section 1.10.32. \\n \\nThe stand\\nard chunk of Lorem Ipsum used since the 1500s is reproduced below for those interested. \\nSections 1.10.32 and 1.10.33 from \"de Finibus Bonorum et Malorum\" by Cicero are also reproduced \\nin their exact original form, accompanied by English versions from the 1\\n914 translation by H. \\nRackham.\\n \\n \\n \\nLorem Ipsum \\nis simply dummy text of the printing and typesetting industry. Lorem Ipsum has been \\nthe industry\\'s standard dummy text ever since the 1500s, when an unknown printer took a galley of \\ntype and scramble\\nd it to make a type specimen book. It has survived not only five centuries, but also \\nthe leap into electronic typesetting, remaining essentially unchanged. It was popularised in the \\n1960s with the release of Letraset sheets containing Lorem Ipsum passages,\\n \\nand more recently with \\ndesktop publishing software like Aldus PageMaker including versions of Lorem Ipsum \\n \\nIt is a long established fact that a reader will be distracted by the readable content of a page when \\nlooking at its layout. The point of using Lorem Ipsum is that it has a more\\n-\\nor\\n-\\nless normal distribution \\nof letters, as opposed to using \\'Content here, content here\\', making it look like readable English. \\nMany desktop publishing packages and web page editor\\ns now use Lorem Ipsum as their default \\nmodel text, and a search for \\'lorem ipsum\\' will uncover many web sites still in their infancy. Various \\nversions have evolved over the years, sometimes by accident, sometimes on purpose (injected \\nhumour and the like). \\n \\nContrary to popular belief, Lorem Ipsum is not simply random text. It has roots in a piece of classical \\nLatin literature from 45 BC, making it over 2000 years old. Richard McClintock, a Latin professor at \\nHampden\\n-\\nSydney College in Virginia, looked up one \\nof the more obscure Latin words, consectetur, \\nfrom a Lorem Ipsum passage, and going through the cites of the word in classical literature, \\ndiscovered the undoubtable source. Lorem Ipsum comes from sections 1.10.32 and 1.10.33 of \"de \\nFinibus Bonorum et Malo\\nrum\" (The Extremes of Good and Evil) by Cicero, written in 45 BC. This \\nbook is a treatise on the theory of ethics, very popular during the Renaissance. The first line of \\nLorem Ipsum, \"Lorem ipsum dolor sit amet..\", comes from a line in section 1.10.32. \\n \\nTh\\ne standard chunk of Lorem Ipsum used since the 1500s is reproduced below for those interested. \\nSections 1.10.32 and 1.10.33 from \"de Finibus Bonorum et Malorum\" by Cicero are also reproduced \\nin their exact original form, accompanied by English versions fro\\nm the 1914 translation by H. \\nRackham.\\n \\n \\n \\nLorem Ipsum \\nis simply dummy text of the printing and typesetting industry. Lorem Ipsum has been \\nthe industry\\'s standard dummy text ever since the 1500s, when an unknown printer took a galley of \\ntype and s\\ncrambled it to make a type specimen book. It has survived not only five centuries, but also \\nthe leap into electronic typesetting, remaining essentially unchanged. It was popularised in the \\n1960s with the release of Letraset sheets containing Lorem Ipsum pa\\nssages, and more recently with \\ndesktop publishing software like Aldus PageMaker including versions of Lorem Ipsum \\n \\nIt is a long established fact that a reader will be distracted by the readable content of a page when \\nlooking at its layout. The point of usi\\nng Lorem Ipsum is that it has a more\\n-\\nor\\n-\\nless normal distribution \\nof letters, as opposed to using \\'Content here, content here\\', making it look like readable English. \\n',\n",
       " 'Many desktop publishing packages and web page editors now use Lorem Ipsum as their default \\nmodel text, and a search for \\'lorem ipsum\\' will uncover many web sites still in their infancy. Various \\nversions have evolved over the years, sometimes by accident, sometimes on purpose (injected \\nhumour and the like). \\n \\nContrary to popular belief, Lorem Ipsu\\nm is not simply random text. It has roots in a piece of classical \\nLatin literature from 45 BC, making it over 2000 years old. Richard McClintock, a Latin professor at \\nHampden\\n-\\nSydney College in Virginia, looked up one of the more obscure Latin words, consec\\ntetur, \\nfrom a Lorem Ipsum passage, and going through the cites of the word in classical literature, \\ndiscovered the undoubtable source. Lorem Ipsum comes from sections 1.10.32 and 1.10.33 of \"de \\nFinibus Bonorum et Malorum\" (The Extremes of Good and Evil) by\\n \\nCicero, written in 45 BC. This \\nbook is a treatise on the theory of ethics, very popular during the Renaissance. The first line of \\nLorem Ipsum, \"Lorem ipsum dolor sit amet..\", comes from a line in section 1.10.32. \\n \\nThe standard chunk of Lorem Ipsum used si\\nnce the 1500s is reproduced below for those interested. \\nSections 1.10.32 and 1.10.33 from \"de Finibus Bonorum et Malorum\" by Cicero are also reproduced \\nin their exact original form, accompanied by English versions from the 1914 translation by H. \\nRackham.\\n \\n \\n \\nLorem Ipsum \\nis simply dummy text of the printing and typesetting industry. Lorem Ipsum has been \\nthe industry\\'s standard dummy text ever since the 1500s, when an unknown printer took a galley of \\ntype and scrambled it to make a type specimen boo\\nk. It has survived not only five centuries, but also \\nthe leap into electronic typesetting, remaining essentially unchanged. It was popularised in the \\n1960s with the release of Letraset sheets containing Lorem Ipsum passages, and more recently with \\ndesktop \\npublishing software like Aldus PageMaker including versions of Lorem Ipsum \\n \\nIt is a long established fact that a reader will be distracted by the readable content of a page when \\nlooking at its layout. The point of using Lorem Ipsum is that it has a more\\n-\\nor\\n-\\nless normal distribution \\nof letters, as opposed to using \\'Content here, content here\\', making it look like readable English. \\nMany desktop publishing packages and web page editors now use Lorem Ipsum as their default \\nmodel text, and a search for \\'lorem ips\\num\\' will uncover many web sites still in their infancy. Various \\nversions have evolved over the years, sometimes by accident, sometimes on purpose (injected \\nhumour and the like). \\n \\nContrary to popular belief, Lorem Ipsum is not simply random text. It has roo\\nts in a piece of classical \\nLatin literature from 45 BC, making it over 2000 years old. Richard McClintock, a Latin professor at \\nHampden\\n-\\nSydney College in Virginia, looked up one of the more obscure Latin words, consectetur, \\nfrom a Lorem Ipsum passage, and \\ngoing through the cites of the word in classical literature, \\ndiscovered the undoubtable source. Lorem Ipsum comes from sections 1.10.32 and 1.10.33 of \"de \\nFinibus Bonorum et Malorum\" (The Extremes of Good and Evil) by Cicero, written in 45 BC. This \\nbook is\\n \\na treatise on the theory of ethics, very popular during the Renaissance. The first line of \\nLorem Ipsum, \"Lorem ipsum dolor sit amet..\", comes from a line in section 1.10.32. \\n \\nThe standard chunk of Lorem Ipsum used since the 1500s is reproduced below for t\\nhose interested. Sections \\n1.10.32 and 1.10.33 from \"de Finibus Bonorum et Malorum\" by Cicero are also reproduced in their exact \\noriginal form, accompanied by English versions from the 1914 translation by H. Rackham.\\n \\n']"
      ]
     },
     "execution_count": 18,
     "metadata": {},
     "output_type": "execute_result"
    }
   ],
   "source": [
    "pdf_text"
   ]
  },
  {
   "cell_type": "code",
   "execution_count": 19,
   "metadata": {},
   "outputs": [
    {
     "name": "stdout",
     "output_type": "stream",
     "text": [
      "the leap into electronic typesetting, remaining essent\n",
      "ially unchanged. It was popularised in the \n",
      "1960s with the release of Letraset sheets containing Lorem Ipsum passages, and more recently with \n",
      "desktop publishing software like Aldus PageMaker including versions of Lorem Ipsum \n",
      " \n",
      "It is a long established fact t\n",
      "hat a reader will be distracted by the readable content of a page when \n",
      "looking at its layout. The point of using Lorem Ipsum is that it has a more\n",
      "-\n",
      "or\n",
      "-\n",
      "less normal distribution \n",
      "of letters, as opposed to using 'Content here, content here', making it look like\n",
      " \n",
      "readable English. \n",
      "Many desktop publishing packages and web page editors now use Lorem Ipsum as their default \n",
      "model text, and a search for 'lorem ipsum' will uncover many web sites still in their infancy. Various \n",
      "versions have evolved over the years, somet\n",
      "imes by accident, sometimes on purpose (injected \n",
      "humour and the like). \n",
      " \n",
      "Contrary to popular belief, Lorem Ipsum is not simply random text. It has roots in a piece of classical \n",
      "Latin literature from 45 BC, making it over 2000 years old. Richard McClintock, \n",
      "a Latin professor at \n",
      "Hampden\n",
      "-\n",
      "Sydney College in Virginia, looked up one of the more obscure Latin words, consectetur, \n",
      "from a Lorem Ipsum passage, and going through the cites of the word in classical literature, \n",
      "discovered the undoubtable source. Lorem Ipsum\n",
      " \n",
      "comes from sections 1.10.32 and 1.10.33 of \"de \n",
      "Finibus Bonorum et Malorum\" (The Extremes of Good and Evil) by Cicero, written in 45 BC. This \n",
      "book is a treatise on the theory of ethics, very popular during the Renaissance. The first line of \n",
      "Lorem Ipsum, \"L\n",
      "orem ipsum dolor sit amet..\", comes from a line in section 1.10.32. \n",
      " \n",
      "The standard chunk of Lorem Ipsum used since the 1500s is reproduced below for those interested. \n",
      "Sections 1.10.32 and 1.10.33 from \"de Finibus Bonorum et Malorum\" by Cicero are also repro\n",
      "duced \n",
      "in their exact original form, accompanied by English versions from the 1914 translation by H. \n",
      "Rackham.\n",
      " \n",
      " \n",
      " \n",
      "Lorem Ipsum \n",
      "is simply dummy text of the printing and typesetting industry. Lorem Ipsum has been \n",
      "the industry's standard dummy text ev\n",
      "er since the 1500s, when an unknown printer took a galley of \n",
      "type and scrambled it to make a type specimen book. It has survived not only five centuries, but also \n",
      "the leap into electronic typesetting, remaining essentially unchanged. It was popularised in \n",
      "the \n",
      "1960s with the release of Letraset sheets containing Lorem Ipsum passages, and more recently with \n",
      "desktop publishing software like Aldus PageMaker including versions of Lorem Ipsum \n",
      " \n",
      "It is a long established fact that a reader will be distracted by the \n",
      "readable content of a page when \n",
      "looking at its layout. The point of using Lorem Ipsum is that it has a more\n",
      "-\n",
      "or\n",
      "-\n",
      "less normal distribution \n",
      "of letters, as opposed to using 'Content here, content here', making it look like readable English. \n",
      "Many desktop publish\n",
      "ing packages and web page editors now use Lorem Ipsum as their default \n",
      "model text, and a search for 'lorem ipsum' will uncover many web sites still in their infancy. Various \n",
      "versions have evolved over the years, sometimes by accident, sometimes on purpose \n",
      "(injected \n",
      "humour and the like). \n",
      " \n",
      "Contrary to popular belief, Lorem Ipsum is not simply random text. It has roots in a piece of classical \n",
      "Latin literature from 45 BC, making it over 2000 years old. Richard McClintock, a Latin professor at \n",
      "Hampden\n",
      "-\n",
      "Sydney Col\n",
      "lege in Virginia, looked up one of the more obscure Latin words, consectetur, \n",
      "from a Lorem Ipsum passage, and going through the cites of the word in classical literature, \n",
      "discovered the undoubtable source. Lorem Ipsum comes from sections 1.10.32 and 1.10.3\n",
      "3 of \"de \n",
      "Finibus Bonorum et Malorum\" (The Extremes of Good and Evil) by Cicero, written in 45 BC. This \n",
      "book is a treatise on the theory of ethics, very popular during the Renaissance. The first line of \n",
      "Lorem Ipsum, \"Lorem ipsum dolor sit amet..\", comes fro\n",
      "m a line in section 1.10.32. \n",
      " \n",
      "The standard chunk of Lorem Ipsum used since the 1500s is reproduced below for those interested. \n",
      "Sections 1.10.32 and 1.10.33 from \"de Finibus Bonorum et Malorum\" by Cicero are also reproduced \n",
      "in their exact original form, acc\n",
      "ompanied by English versions from the 1914 translation by H. \n",
      "Rackham.\n",
      " \n",
      " \n",
      " \n",
      "Lorem Ipsum \n",
      "is simply dummy text of the printing and typesetting industry. Lorem Ipsum has been \n",
      "the industry's standard dummy text ever since the 1500s, when an unknown pri\n",
      "nter took a galley of \n",
      "type and scrambled it to make a type specimen book. It has survived not only five centuries, but also \n",
      "the leap into electronic typesetting, remaining essentially unchanged. It was popularised in the \n",
      "1960s with the release of Letraset \n",
      "sheets containing Lorem Ipsum passages, and more recently with \n",
      "desktop publishing software like Aldus PageMaker including versions of Lorem Ipsum \n",
      " \n",
      "\n"
     ]
    }
   ],
   "source": [
    "print(pdf_text[3])"
   ]
  },
  {
   "cell_type": "code",
   "execution_count": null,
   "metadata": {},
   "outputs": [],
   "source": []
  }
 ],
 "metadata": {
  "kernelspec": {
   "display_name": "Python 3",
   "language": "python",
   "name": "python3"
  },
  "language_info": {
   "codemirror_mode": {
    "name": "ipython",
    "version": 3
   },
   "file_extension": ".py",
   "mimetype": "text/x-python",
   "name": "python",
   "nbconvert_exporter": "python",
   "pygments_lexer": "ipython3",
   "version": "3.6.4"
  }
 },
 "nbformat": 4,
 "nbformat_minor": 2
}
